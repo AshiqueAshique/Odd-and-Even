{
 "cells": [
  {
   "cell_type": "markdown",
   "id": "db8646fd",
   "metadata": {},
   "source": [
    "\n",
    "# Number of Odd and Number of Even"
   ]
  },
  {
   "cell_type": "code",
   "execution_count": 1,
   "id": "154c9e92",
   "metadata": {},
   "outputs": [],
   "source": [
    "numbers = (1,2,3,4,5,6,7,8,9)"
   ]
  },
  {
   "cell_type": "code",
   "execution_count": 2,
   "id": "458a2d3b",
   "metadata": {},
   "outputs": [],
   "source": [
    "count_odd = 0"
   ]
  },
  {
   "cell_type": "code",
   "execution_count": 3,
   "id": "57973d66",
   "metadata": {},
   "outputs": [],
   "source": [
    "count_even = 0"
   ]
  },
  {
   "cell_type": "code",
   "execution_count": 4,
   "id": "0deba3f8",
   "metadata": {},
   "outputs": [
    {
     "name": "stdout",
     "output_type": "stream",
     "text": [
      "No. of Even numbers:  4\n",
      "No. of Odd numbers:  5\n"
     ]
    }
   ],
   "source": [
    "for count in numbers:\n",
    "    if not (count % 2 == 0):\n",
    "        count_odd += 1\n",
    "    else:\n",
    "        count_even += 1\n",
    "print(\"No. of Even numbers: \" ,count_even)\n",
    "print(\"No. of Odd numbers: \" ,count_odd)"
   ]
  }
 ],
 "metadata": {
  "kernelspec": {
   "display_name": "Python 3",
   "language": "python",
   "name": "python3"
  },
  "language_info": {
   "codemirror_mode": {
    "name": "ipython",
    "version": 3
   },
   "file_extension": ".py",
   "mimetype": "text/x-python",
   "name": "python",
   "nbconvert_exporter": "python",
   "pygments_lexer": "ipython3",
   "version": "3.8.8"
  }
 },
 "nbformat": 4,
 "nbformat_minor": 5
}
